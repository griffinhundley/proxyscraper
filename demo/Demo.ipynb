{
 "cells": [
  {
   "cell_type": "markdown",
   "metadata": {},
   "source": [
    "# Proxyscraper Demo\n",
    "### by Griffin Hundley"
   ]
  },
  {
   "cell_type": "markdown",
   "metadata": {},
   "source": [
    "## Info\n",
    "\n",
    "This is a lightweight script I wrote for a previous data collection project.  It makes a GET request to free-proxy-list.net, parses the HTML for https elite proxies, and returns them as a list.  Proxies are useful because they can mask the identity of the original user, and bypass certain network restrictions.  Making too many requests from a particular IP address, or performing automated requests, can get that IP address blocked.  The use of proxies and spoofed user agents can alleviate these concerns."
   ]
  },
  {
   "cell_type": "markdown",
   "metadata": {},
   "source": [
    "The following packages are used:\n",
    "\n",
    "fake_useragent - to simulate a headed browser\n",
    "\n",
    "BeautifulSoup4 - to parse the HTML\n",
    "\n",
    "Requests - to make a GET request"
   ]
  },
  {
   "cell_type": "code",
   "execution_count": 1,
   "metadata": {},
   "outputs": [],
   "source": [
    "# Dependencies\n",
    "# !pip install fake_useragent\n",
    "# !pip install bs4\n",
    "# !pip install requests"
   ]
  },
  {
   "cell_type": "code",
   "execution_count": 2,
   "metadata": {},
   "outputs": [],
   "source": [
    "# import the package\n",
    "import src.proxyscraper as ps"
   ]
  },
  {
   "cell_type": "markdown",
   "metadata": {},
   "source": [
    "Call the function and assign it to a variable."
   ]
  },
  {
   "cell_type": "code",
   "execution_count": 3,
   "metadata": {
    "collapsed": true,
    "jupyter": {
     "outputs_hidden": true
    }
   },
   "outputs": [
    {
     "data": {
      "text/plain": [
       "['103.146.176.124:80',\n",
       " '185.103.246.45:8080',\n",
       " '168.228.150.5:47507',\n",
       " '196.216.220.204:36739',\n",
       " '200.94.140.50:30682',\n",
       " '139.162.1.237:80',\n",
       " '46.229.187.169:53281',\n",
       " '150.129.55.121:35101',\n",
       " '103.106.114.134:8080',\n",
       " '181.80.18.10:8080',\n",
       " '118.174.232.239:39258',\n",
       " '122.58.118.224:8080',\n",
       " '178.33.251.230:3129',\n",
       " '188.165.141.114:3129',\n",
       " '41.160.40.2:37741',\n",
       " '89.36.195.238:35328',\n",
       " '150.129.148.99:35101',\n",
       " '202.61.49.52:47448',\n",
       " '105.247.67.115:8080',\n",
       " '213.222.239.40:3128',\n",
       " '185.150.189.220:80',\n",
       " '79.137.44.85:3129',\n",
       " '139.59.114.107:8118',\n",
       " '161.202.226.194:80',\n",
       " '81.95.131.10:44292',\n",
       " '43.224.10.19:6666',\n",
       " '159.224.166.129:38779',\n",
       " '99.192.170.250:80',\n",
       " '176.98.20.71:8089',\n",
       " '186.211.106.227:34334',\n",
       " '24.248.207.7:55443',\n",
       " '212.98.190.22:3128',\n",
       " '139.162.41.219:8889',\n",
       " '103.13.132.206:55443',\n",
       " '185.106.137.1:8080',\n",
       " '91.224.98.206:36301',\n",
       " '167.172.109.12:36457',\n",
       " '18.234.43.113:80',\n",
       " '124.107.185.189:3128',\n",
       " '103.13.181.16:8080',\n",
       " '103.150.174.34:80',\n",
       " '103.153.66.10:8080']"
      ]
     },
     "execution_count": 3,
     "metadata": {},
     "output_type": "execute_result"
    }
   ],
   "source": [
    "ips = ps.get_proxies()\n",
    "ips"
   ]
  },
  {
   "cell_type": "markdown",
   "metadata": {},
   "source": [
    "Now you have a list of proxies."
   ]
  }
 ],
 "metadata": {
  "kernelspec": {
   "display_name": "learn-env",
   "language": "python",
   "name": "learn-env"
  },
  "language_info": {
   "codemirror_mode": {
    "name": "ipython",
    "version": 3
   },
   "file_extension": ".py",
   "mimetype": "text/x-python",
   "name": "python",
   "nbconvert_exporter": "python",
   "pygments_lexer": "ipython3",
   "version": "3.6.9"
  }
 },
 "nbformat": 4,
 "nbformat_minor": 4
}
